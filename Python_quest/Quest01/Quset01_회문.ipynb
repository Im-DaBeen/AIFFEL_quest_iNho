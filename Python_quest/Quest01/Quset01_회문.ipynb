{
  "cells": [
    {
      "cell_type": "markdown",
      "metadata": {
        "id": "view-in-github",
        "colab_type": "text"
      },
      "source": [
        "<a href=\"https://colab.research.google.com/github/penguinhouse/aiffel/blob/main/workplace/Quest_01/Quset01_%ED%9A%8C%EB%AC%B8.ipynb\" target=\"_parent\"><img src=\"https://colab.research.google.com/assets/colab-badge.svg\" alt=\"Open In Colab\"/></a>"
      ]
    },
    {
      "cell_type": "code",
      "execution_count": null,
      "metadata": {
        "id": "KgECGxyDDRw7"
      },
      "outputs": [],
      "source": [
        "# [퀘스트 1] 회문인지 아닌지 확인하는 프로그램\n",
        "# 회문이란?\n",
        "# 앞에서부터 읽어도 뒤에서부터 읽어도 같은 단어, 구, 문장, 숫자, 혹은 문단\n",
        "\n",
        "#  조건\n",
        "# 단어(string)를 입력받을 수 있게 한다.\n",
        "# 자료형에 대한 이해가 부족하다면? 검색 혹은 노드 확인!!\n",
        "# 입력된 단어를 뒤집어서 출력할 수 있게 한다.\n",
        "# 입력된 단어가 회문이 맞는지 확인하여 출력할 수 있게 한다.\n",
        "# 자료형, 제어문, 함수를 활용한다."
      ]
    },
    {
      "cell_type": "code",
      "execution_count": null,
      "metadata": {
        "colab": {
          "base_uri": "https://localhost:8080/"
        },
        "id": "Yqy5j7i7DwFY",
        "outputId": "9090d497-2422-4f6b-cf83-3f668f2fa368"
      },
      "outputs": [
        {
          "output_type": "stream",
          "name": "stdout",
          "text": [
            "단어를 입력하세요 : 토마토\n",
            "==========\n",
            "입력값 : \n",
            "토마토\n",
            "\n",
            "출력값 : \n",
            "뒤집힌 단어는 : 토마토\n",
            "입력된 단어는 회문입니다.\n"
          ]
        }
      ],
      "source": [
        "def check_palindrome(word) :                         # 회문 판별\n",
        "  for i in range(len(word) // 2):                    # 단어의 길이를 2등분하여 for문으로 삽입\n",
        "      if word[i] != word[-1 - i]:                    # 각각의 단어word[i]를 역순의 단어[word[-1 - i]와 비교\n",
        "        print(\"입력된 단어는 회문이 아닙니다,\")\n",
        "        break                                        # 출력값이 2번 출력되는 오류가 있어서 break로 제어하였음\n",
        "      else :\n",
        "        print(\"입력된 단어는 회문입니다.\")\n",
        "        break                                        # 출력값이 2번 출력되는 오류가 있어서 break로 제어하였음\n",
        "\n",
        "\n",
        "\n",
        "def main() :\n",
        "  word = input('단어를 입력하세요 : ')\n",
        "  print('='*10)\n",
        "  print(\"입력값 : \\n\" + word+'\\n')\n",
        "  reversed_word  = word[::-1]\n",
        "  print(\"출력값 : \\n\" + \"뒤집힌 단어는 : \" + reversed_word)\n",
        "  check_palindrome(word)\n",
        "\n",
        "main()"
      ]
    },
    {
      "cell_type": "markdown",
      "source": [
        "정인호 - 회고\n",
        "- 배운점 : 코렙 사용법과 공유, 그리고 문자열 연산자를 활용한 함수화 작업이 코드의 재활용성과 유지/관리에 용이하다는 점을 알았습니다.\n",
        "- 아쉬운 점 : 시간에 쫓기는 압박감에 사고의 흐름이 자꾸 끊기는 지점이 있었는데 주말을 이용해 실습코딩을 더 해야 할 것 같습니다.\n",
        "- 느낀점 : 무엇보다 코딩에 대한 두려움을 거둬냈다는데 이번 퀘스트의 큰 수확인 것 같습니다.\n",
        "        "
      ],
      "metadata": {
        "id": "8pdS1cQ4CgS1"
      }
    },
    {
      "cell_type": "markdown",
      "source": [
        "**조세창 - 회고**\n",
        "간단한 퀘스트였지만 인덱싱을 활용한 기능함수와 메인함수를 나눠서 작성하는데 쉽지않았습니다. 하지만 정인호 쿠루님과 같이 피어코딩을 진행하니 간단한게 완성되는것을 보고 커뮤니티의 위대함을 몸소 느끼게 *되어* 이번 교육에 잘 참여했다고 생각합니다.\n",
        "\n"
      ],
      "metadata": {
        "id": "Gw2XrvGlAVK6"
      }
    }
  ],
  "metadata": {
    "colab": {
      "provenance": [],
      "include_colab_link": true
    },
    "kernelspec": {
      "display_name": "Python 3",
      "name": "python3"
    },
    "language_info": {
      "name": "python"
    }
  },
  "nbformat": 4,
  "nbformat_minor": 0
}