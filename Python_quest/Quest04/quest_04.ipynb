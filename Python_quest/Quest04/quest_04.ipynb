{
  "nbformat": 4,
  "nbformat_minor": 0,
  "metadata": {
    "colab": {
      "provenance": [],
      "include_colab_link": true
    },
    "kernelspec": {
      "name": "python3",
      "display_name": "Python 3"
    },
    "language_info": {
      "name": "python"
    }
  },
  "cells": [
    {
      "cell_type": "markdown",
      "metadata": {
        "id": "view-in-github",
        "colab_type": "text"
      },
      "source": [
        "<a href=\"https://colab.research.google.com/github/penguinhouse/AIFFEL_quest_iNho/blob/main/Python_quest/Quest04/quest_04.ipynb\" target=\"_parent\"><img src=\"https://colab.research.google.com/assets/colab-badge.svg\" alt=\"Open In Colab\"/></a>"
      ]
    },
    {
      "cell_type": "code",
      "execution_count": null,
      "metadata": {
        "id": "-ioPGsTrN4LC",
        "colab": {
          "base_uri": "https://localhost:8080/"
        },
        "outputId": "65a16bc2-8814-4cff-88dd-adc9c6b7c56d"
      },
      "outputs": [
        {
          "output_type": "stream",
          "name": "stdout",
          "text": [
            "출력값\n",
            "\n",
            "Using Comprehension:\n",
            "Nemo is swimming at 3 m/s\n",
            "Dory is swimming at 5 m/s\n",
            "\n",
            "Using Generator:\n",
            "Nemo is swimming at 3 m/s\n",
            "Dory is swimming at 5 m/s\n"
          ]
        }
      ],
      "source": [
        "\n",
        "# 물고기 리스트(이름과 speed를 나타내는 딕셔너리의 리스트)\n",
        "fish_list = [{\"이름\":\"Nemo\", \"speed\": 3}, {\"이름\":\"Dory\", \"speed\": 5}]\n",
        "\n",
        "### 함수 정의 ###\n",
        "\n",
        "# 물고기 리스트에 대하여 각 물고기의 움직임을 표현하는 메시지(문자열)의 리스트를 반환한다.\n",
        "def get_fish_movement(fish_list):\n",
        "\n",
        "  #[print(f\"{fish['이름']} is swimming at {fish['speed']} m/s\") for fish in fish_list]\n",
        "  #리스트 컴프리핸션을 사용하여 각 물고기의 움직임을 메시지로 만들어서 리스트를 반환한다.\n",
        "  movement_list = [f\"{fish['이름']} is swimming at {fish['speed']} m/s\" for fish in fish_list]\n",
        "  return movement_list\n",
        "\n",
        "# 물고기 움직이는 리스트를 받아서 출력한다.\n",
        "def show_fish_movement_comprehension(fish_list):\n",
        "  for value in get_fish_movement(fish_list):\n",
        "    print(value)\n",
        "\n",
        "# 물고기의 움직임을 표현하는 메시지를 반환하는 Generator이다.\n",
        "def get_fish_movement(fish_list):\n",
        "  for fish in fish_list:\n",
        "    movement_string = f\"{fish['이름']} is swimming at {fish['speed']} m/s\"\n",
        "    yield(movement_string)\n",
        "\n",
        "# for문을 이용하여 전체 물고기의 움직임을 표현하는 메시지를 출력한다.\n",
        "def show_fish_movement_Generator(fish_list):\n",
        "  for value in get_fish_movement(fish_list):\n",
        "    print(value)\n",
        "\n",
        "### 실행 ###\n",
        "\n",
        "# 물고기의 움직임 출력\n",
        "print(\"출력값\\n\")\n",
        "print(\"Using Comprehension:\")\n",
        "show_fish_movement_comprehension(fish_list)\n",
        "print()\n",
        "print(\"Using Generator:\")\n",
        "show_fish_movement_Generator(fish_list)"
      ]
    },
    {
      "cell_type": "markdown",
      "source": [
        "#회고\n",
        "---\n",
        "\n",
        "주어진 데이터를 바탕으로 컴프리핸션 함수를 이용하여 조합하고 for문과 yield 구문을 활용한 제너레이터함수를 적용해 볼 수 있어서 좋았다.  \n",
        "\n",
        "아직 문제해결능력이 부족해서 함께 한 이혁희 구루님의 훌륭한 네비게이팅이 특히 도움이 많이 되었다.\n",
        "문제분석과 패턴파악,알고리즘을 구현하는 것이 하루 아침에 되는 건 아니겠지만 이렇게 진행하다보면 큰 발전이 있을거라 마음이 들어 흐믓하다.\n"
      ],
      "metadata": {
        "id": "k6Gkyts1fXPe"
      }
    }
  ]
}